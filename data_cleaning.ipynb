{
 "cells": [
  {
   "cell_type": "code",
   "execution_count": 640,
   "metadata": {},
   "outputs": [],
   "source": [
    "import pandas as pd\n",
    "import numpy as np\n",
    "import ast # to convert str to list\n",
    "import re"
   ]
  },
  {
   "cell_type": "code",
   "execution_count": 641,
   "metadata": {},
   "outputs": [],
   "source": [
    "read_df = pd.read_csv('uncleaned_df.csv')"
   ]
  },
  {
   "cell_type": "markdown",
   "metadata": {},
   "source": [
    "Dropping NA / Missing"
   ]
  },
  {
   "cell_type": "code",
   "execution_count": 642,
   "metadata": {},
   "outputs": [],
   "source": [
    "\"\"\"\n",
    "Drop last 4 columns which have a lot of missing values\n",
    "\tcols: Fiber, Vitamin A, Added Sugars, Sugars\n",
    "\"\"\"\n",
    "read_df.iloc[:, -4:]\n",
    "read_df = read_df.iloc[:, :-4]"
   ]
  },
  {
   "cell_type": "code",
   "execution_count": 643,
   "metadata": {},
   "outputs": [
    {
     "name": "stdout",
     "output_type": "stream",
     "text": [
      "Index(['Dietary Fiber', 'Includes'], dtype='object')\n"
     ]
    }
   ],
   "source": [
    "\"\"\"\n",
    "1. get columns with more than 10% NA: \n",
    "\tcols: 'Dietary Fiber' & 'Includes'\n",
    "2. check sample of obs that have NA & look on TJ website if data is not there\n",
    "or scraped poorly\n",
    "\t-data is not there => drop the cols\n",
    "\"\"\"\n",
    "\n",
    "# step 1\n",
    "print(read_df.columns[read_df.isnull().mean() > 0.1])\n",
    "read_df['Dietary Fiber'].value_counts(dropna=False) # 11\n",
    "read_df['Includes'].value_counts(dropna=False) # 4\n",
    "\n",
    "# step 2\n",
    "read_df[read_df.isnull().any(axis=1)] # check which obs have any NA\n",
    "read_df = read_df.drop(columns=['Dietary Fiber', 'Includes'])"
   ]
  },
  {
   "cell_type": "code",
   "execution_count": 644,
   "metadata": {},
   "outputs": [],
   "source": [
    "\"\"\"\n",
    "Check which obs have NA vals (2):\n",
    "\t1. 'Saint André Triple Crème Brie'\n",
    "\t\t-does not have ANY information online => DROP obs\n",
    "\t2. 'Sliced New Zealand Organic Cheddar'\n",
    "\t\t-missing total sugars => Replace with ['0',''] (no sugar)\n",
    "\"\"\"\n",
    "read_df[read_df.isnull().any(axis=1)]\n",
    "read_df = read_df[read_df['product'] != 'Saint André Triple Crème Brie'] # step 1\n",
    "read_df.loc[read_df['product'] == 'Sliced New Zealand Organic Cheddar', 'Total Sugars'] = \"['0','']\""
   ]
  },
  {
   "cell_type": "code",
   "execution_count": 645,
   "metadata": {},
   "outputs": [],
   "source": [
    "\"\"\"\n",
    "1. look @ all diff serving size values\n",
    "\t-most obs are '28g'\n",
    "\"\"\"\n",
    "read_df['serving size'].value_counts(dropna=False) # step 1\n",
    "# convert '28g' (majority) to float -> 28.0\n",
    "read_df.loc[read_df['serving size'].str.contains('28g'), 'serving size'] = 28.0"
   ]
  },
  {
   "cell_type": "code",
   "execution_count": 646,
   "metadata": {},
   "outputs": [],
   "source": [
    "# extracting only numeric values from weight col\n",
    "\n",
    "read_df['per weight'] = read_df['per weight'].str.extract('\\/(.*)') # remove '/'\n",
    "# read_df['per weight'].value_counts(dropna=False)"
   ]
  },
  {
   "cell_type": "code",
   "execution_count": 647,
   "metadata": {},
   "outputs": [],
   "source": [
    "\"\"\"\n",
    "looking @ other cols in list `cols`\n",
    "\t1. 'Potassium', 'Iron', 'Trans Fat' have lots of missing & approx all obs 0\n",
    "\t\tdrop\n",
    "\"\"\"\n",
    "cols = ['Trans Fat', 'Total Sugars', 'Iron', 'Potassium', 'Vitamin D', 'Total Carbohydrate']\n",
    "# for col in cols:\n",
    "# \tprint(read_df[col].value_counts(dropna=False))\n",
    "read_df = read_df.drop(columns=['Potassium', 'Iron', 'Trans Fat']) #step 1"
   ]
  },
  {
   "cell_type": "code",
   "execution_count": 648,
   "metadata": {},
   "outputs": [],
   "source": [
    "\"\"\"\n",
    "1. convert remaining nested list (nutr) columns from str to list\n",
    "\tnested list is of form: ['g', '%']\n",
    "2. obtain grams (not %) if poss from index 0 of nested list\n",
    "\"\"\"\n",
    "cols_to_list = ['Total Fat', 'Saturated Fat', 'Cholesterol', 'Sodium',\n",
    "'Total Carbohydrate', 'Total Sugars', 'Protein', 'Vitamin D','Calcium']\n",
    "for col in cols_to_list: # step 1\n",
    "\tread_df[col] = read_df[col].apply(lambda s: list(ast.literal_eval(s)))\n",
    "\n",
    "# step 2\n",
    "def get_stat(list):\n",
    "\tif list[0] != \"\": # if grams is not empty\n",
    "\t\treturn list[0]\n",
    "\telse:\n",
    "\t\treturn list[1]\n",
    "\n",
    "for col in cols_to_list:\n",
    "\tread_df[col] = read_df[col].apply(get_stat)"
   ]
  },
  {
   "cell_type": "code",
   "execution_count": 649,
   "metadata": {},
   "outputs": [
    {
     "data": {
      "text/plain": [
       "'\\n1. Change price to price per pound (16oz)\\n2. Choose grams when possible\\n3. Convert all values (grams or mg) to per 28 gram serving\\n'"
      ]
     },
     "execution_count": 649,
     "metadata": {},
     "output_type": "execute_result"
    }
   ],
   "source": [
    "\"\"\"\n",
    "1. Change price to price per pound (16oz)\n",
    "2. Choose grams when possible\n",
    "3. Convert all values (grams or mg) to per 28 gram serving\n",
    "\"\"\""
   ]
  },
  {
   "cell_type": "code",
   "execution_count": 650,
   "metadata": {},
   "outputs": [],
   "source": [
    "\"\"\"\n",
    "1. check to make sure price col has no non numericals\n",
    "2. get name of cheese with NA price\n",
    "\tName = 'Italian Lagorai Semi-Soft Cheese'\n",
    "3. Look online for price & update value => $9.99\n",
    "\"\"\"\n",
    "read_df['price'].value_counts() # step 1\n",
    "NA_price_cheese = read_df[read_df['price'] == 'Not available']['product'].item() # step 2\n",
    "read_df.loc[read_df['product'] == NA_price_cheese, 'price'] = '9.99' # step 3"
   ]
  },
  {
   "cell_type": "code",
   "execution_count": 651,
   "metadata": {},
   "outputs": [],
   "source": [
    "\"\"\"\n",
    "Name: Vitamin D ----> DROP\n",
    "0%         16\n",
    "0 mcg       5\n",
    "0.2 mcg     3\n",
    "0.1 mcg     3\n",
    "20%         1\n",
    "2%          1\n",
    "0.0 mcg     1\n",
    "3.8 mcg     1\n",
    "\n",
    "Name: Total Sugars ----> DROP\n",
    "0 g               15\n",
    "0g                 5\n",
    "less than 1 g      2\n",
    "1g                 2\n",
    "less than 1g g     1\n",
    "3g                 1\n",
    "Less than 1 g      1\n",
    "1 g                1\n",
    "0                  1\n",
    "2 g                1\n",
    "3 g                1\n",
    "\n",
    "1. standardize price to price per lb\n",
    "2. drop unnecessary cols: 'per weight', 'Vitamin D', 'Total Sugars'\n",
    "\"\"\"\n",
    "# step 1\n",
    "def get_price_per_lb(row):\n",
    "\traw_weight = row['per weight']\n",
    "\tweight = float(re.search('(\\d*\\.?\\d+)', raw_weight).group(1))\n",
    "\traw_price = row['price']\n",
    "\tprice = float(re.search('(\\d*\\.?\\d+)', raw_price).group(1))\n",
    "\tif 'lb' in raw_weight.lower():\n",
    "\t\tprice = price * (1/weight)\n",
    "\telif 'oz' in raw_weight.lower():\n",
    "\t\tprice = price * (16/weight)\n",
    "\treturn price\n",
    "\n",
    "read_df['price'] = read_df.apply(lambda row: get_price_per_lb(row), axis = 1)\n",
    "read_df = read_df.drop(columns=['per weight', 'Vitamin D', 'Total Sugars'])"
   ]
  },
  {
   "cell_type": "code",
   "execution_count": 652,
   "metadata": {},
   "outputs": [
    {
     "name": "stdout",
     "output_type": "stream",
     "text": [
      "8 g      7\n",
      "5 g      4\n",
      "9 g      4\n",
      "6 g      3\n",
      "9g       3\n",
      "8g       2\n",
      "7 g      2\n",
      "11g      1\n",
      "4.5g     1\n",
      "2 g      1\n",
      "10g      1\n",
      "10 g     1\n",
      "4.5 g    1\n",
      "Name: Total Fat, dtype: int64\n",
      "6 g      7\n",
      "6g       6\n",
      "3.5 g    5\n",
      "4.5 g    2\n",
      "5.0 g    2\n",
      "7 g      2\n",
      "5 g      1\n",
      "8g       1\n",
      "3g       1\n",
      "4 g      1\n",
      "8 g      1\n",
      "1.5 g    1\n",
      "3.0 g    1\n",
      "Name: Saturated Fat, dtype: int64\n",
      "25 mg    12\n",
      "25mg      5\n",
      "20 mg     3\n",
      "0 mg      3\n",
      "15 mg     2\n",
      "20mg      2\n",
      "30 mg     2\n",
      "30mg      1\n",
      "10 mg     1\n",
      "Name: Cholesterol, dtype: int64\n",
      "80 mg     3\n",
      "170 mg    3\n",
      "75 mg     2\n",
      "210 mg    2\n",
      "180 mg    2\n",
      "160 mg    2\n",
      "140mg     1\n",
      "200mg     1\n",
      "240mg     1\n",
      "125mg     1\n",
      "380 mg    1\n",
      "190mg     1\n",
      "220 mg    1\n",
      "150 mg    1\n",
      "75mg      1\n",
      "55 mg     1\n",
      "270 mg    1\n",
      "160mg     1\n",
      "190 mg    1\n",
      "200 mg    1\n",
      "230 mg    1\n",
      "320mg     1\n",
      "110 mg    1\n",
      "Name: Sodium, dtype: int64\n",
      "3 g              6\n",
      "less than 1 g    3\n",
      "Less than 1 g    3\n",
      "0 g              3\n",
      "1 g              3\n",
      "2 g              2\n",
      "0g               2\n",
      "4 g              2\n",
      "1g               2\n",
      "less than 1g     1\n",
      "5g               1\n",
      "2g               1\n",
      "8 g              1\n",
      "10g              1\n",
      "Name: Total Carbohydrate, dtype: int64\n",
      "7 g              6\n",
      "6 g              5\n",
      "6g               4\n",
      "4 g              4\n",
      "0 g              3\n",
      "7g               3\n",
      "5 g              2\n",
      "3 g              1\n",
      "4g               1\n",
      "Less than 1 g    1\n",
      "8 g              1\n",
      "Name: Protein, dtype: int64\n",
      "15%       10\n",
      "200 mg     4\n",
      "0%         4\n",
      "190 mg     2\n",
      "4%         2\n",
      "210 mg     2\n",
      "8%         1\n",
      "250 mg     1\n",
      "0 mg       1\n",
      "30 mg      1\n",
      "265 mg     1\n",
      "100 mg     1\n",
      "2%         1\n",
      "Name: Calcium, dtype: int64\n"
     ]
    },
    {
     "data": {
      "text/plain": [
       "'\\nTotal Fat: g\\nSaturated Fat: g\\nCholesterol: mg\\nSodium: mg\\n\\nTotal Carbohydrate: g & less than 1 g\\nProtein: g & less than 1 g\\n\\nCalcium: mg & %\\n\\nless than 1 g -> 0 g\\n'"
      ]
     },
     "execution_count": 652,
     "metadata": {},
     "output_type": "execute_result"
    }
   ],
   "source": [
    "all_nutr = ['Total Fat','Saturated Fat', 'Cholesterol', 'Sodium',\n",
    "'Total Carbohydrate','Protein', 'Calcium']\n",
    "# checking unique vals of all nutr cols to figure out how to clean\n",
    "for col in all_nutr:\n",
    "\tprint(read_df[col].value_counts(dropna=False))\n",
    "\n",
    "\"\"\"\n",
    "Total Fat: g\n",
    "Saturated Fat: g\n",
    "Cholesterol: mg\n",
    "Sodium: mg\n",
    "\n",
    "Total Carbohydrate: g & less than 1 g\n",
    "Protein: g & less than 1 g\n",
    "\n",
    "Calcium: mg & %\n",
    "\n",
    "less than 1 g -> 0 g\n",
    "\"\"\"\n"
   ]
  },
  {
   "cell_type": "markdown",
   "metadata": {},
   "source": [
    "3. Convert all values (grams or mg) to per 28 gram serving"
   ]
  },
  {
   "cell_type": "code",
   "execution_count": 653,
   "metadata": {},
   "outputs": [],
   "source": [
    "# first extract numbers from all nutr columns\n",
    "\"\"\"\n",
    "1. Extract only numbers/floats from nutr cols\n",
    "\ta) clean easy_clean_cols (1 unique unit)\n",
    "\tb) clean med_clean_cols (2 unique units; less than 1 gram...)\n",
    "\tc) clean 'calcium` col (% and mg)\n",
    "\"\"\"\n",
    "easy_clean_cols = ['Total Fat', 'Saturated Fat', 'Cholesterol', 'Sodium']\n",
    "med_clean_cols = ['Total Carbohydrate', 'Protein']\n",
    "\n",
    "for col in easy_clean_cols:\n",
    "\tread_df[col] = read_df[col].str.extract('(\\d*\\.?\\d+)').astype(float)\n",
    "\n",
    "def clean_med_cols(row, col_name):\n",
    "\traw_data = row[col_name]\n",
    "\tif 'less than' in raw_data.lower():\n",
    "\t\treturn 0.0\n",
    "\telse:\n",
    "\t\treturn float(re.search('(\\d*\\.?\\d+)', raw_data).group(1))\n",
    "\n",
    "for col in med_clean_cols:\n",
    "\tread_df[col] = read_df.apply(lambda row : clean_med_cols(row,col), axis=1)\n"
   ]
  },
  {
   "cell_type": "code",
   "execution_count": 654,
   "metadata": {},
   "outputs": [
    {
     "data": {
      "text/plain": [
       "150.0    10\n",
       "0.0       5\n",
       "200.0     4\n",
       "190.0     2\n",
       "40.0      2\n",
       "210.0     2\n",
       "80.0      1\n",
       "250.0     1\n",
       "30.0      1\n",
       "265.0     1\n",
       "100.0     1\n",
       "20.0      1\n",
       "Name: Calcium, dtype: int64"
      ]
     },
     "execution_count": 654,
     "metadata": {},
     "output_type": "execute_result"
    }
   ],
   "source": [
    "\"\"\"\n",
    "Standardize 'Calcium' to mg\n",
    "DV of calcium = 1000 mg (100%)\n",
    "To standardize, multiply percentages by 1000\n",
    "if 8% => 0.08 * 1000 = 8 * 10\n",
    "\"\"\"\n",
    "def clean_calcium(row):\n",
    "\traw_data = row['Calcium']\n",
    "\tif '%' in raw_data:\n",
    "\t\treturn float(re.search('(\\d*\\.?\\d+)', raw_data).group(1)) * 10\n",
    "\telse:\n",
    "\t\treturn float(re.search('(\\d*\\.?\\d+)', raw_data).group(1))\n",
    "\n",
    "read_df['Calcium'] = read_df.apply(lambda row: clean_calcium(row), axis=1)\n",
    "read_df['Calcium'].value_counts(dropna=False)"
   ]
  },
  {
   "cell_type": "code",
   "execution_count": 655,
   "metadata": {},
   "outputs": [],
   "source": [
    "\"\"\"\n",
    "Cleaning 'serving size': only 4 cases of not 28.0 (g)\n",
    "1. get `indexes` of df that are not 28.0 g serving size\n",
    "2. index 21 = italian truffle cheese is '1 inch block cube'\n",
    "\tchecked website -> 28.0 g (update!)\n",
    "\tremove index 21 from `indexes`\n",
    "3. Extract number from rest of indexes\n",
    "\"\"\"\n",
    "read_df['serving size'].value_counts()\n",
    "indexes = read_df.index[read_df['serving size'] != 28.0].tolist() # step 1\n",
    "read_df.loc[21, 'serving size'] = 28.0 # step 2\n",
    "indexes.remove(21)\n",
    "for index in indexes:\n",
    "\tread_df.loc[index, 'serving size'] = re.search('(\\d*\\.?\\d+)',\n",
    "\tread_df.loc[index, 'serving size']).group(1) # step 3\n",
    "read_df['serving size'] = read_df['serving size'].astype(float) # to float"
   ]
  },
  {
   "cell_type": "code",
   "execution_count": 656,
   "metadata": {},
   "outputs": [],
   "source": [
    "# standardize nutrition to 28 g serving\n",
    "nutrition_cols = ['calories', 'Total Fat', 'Saturated Fat', 'Cholesterol',\n",
    "'Sodium', 'Total Carbohydrate', 'Protein', 'Calcium']\n",
    "\n",
    "def standardize_nutrition(row):\n",
    "    serving = float(row['serving size'])\n",
    "    for col in nutrition_cols:\n",
    "        nutr_val = float(row[col]) * (28 / serving)\n",
    "        row[col] = nutr_val\n",
    "    return row\n",
    "\n",
    "read_df.loc[indexes, :] = read_df.loc[indexes, :].apply(lambda row: standardize_nutrition(row), axis = 1)\n"
   ]
  },
  {
   "cell_type": "code",
   "execution_count": 657,
   "metadata": {},
   "outputs": [],
   "source": [
    "read_df.to_csv('clean_df.csv', index=False)"
   ]
  }
 ],
 "metadata": {
  "interpreter": {
   "hash": "e236deccb637d3fbe94727e09f0667409d96c3d2aad076b181b6076223c6551d"
  },
  "kernelspec": {
   "display_name": "Python 3.9.0 64-bit",
   "language": "python",
   "name": "python3"
  },
  "language_info": {
   "codemirror_mode": {
    "name": "ipython",
    "version": 3
   },
   "file_extension": ".py",
   "mimetype": "text/x-python",
   "name": "python",
   "nbconvert_exporter": "python",
   "pygments_lexer": "ipython3",
   "version": "3.9.0"
  },
  "orig_nbformat": 4
 },
 "nbformat": 4,
 "nbformat_minor": 2
}
